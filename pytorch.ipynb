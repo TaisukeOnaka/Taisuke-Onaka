{
  "nbformat": 4,
  "nbformat_minor": 0,
  "metadata": {
    "colab": {
      "name": "Colaboratory へようこそ のコピー",
      "provenance": [],
      "collapsed_sections": [],
      "include_colab_link": true
    },
    "kernelspec": {
      "display_name": "Python 3",
      "name": "python3"
    }
  },
  "cells": [
    {
      "cell_type": "markdown",
      "metadata": {
        "id": "view-in-github",
        "colab_type": "text"
      },
      "source": [
        "<a href=\"https://colab.research.google.com/github/TaisukeOnaka/Taisuke-Onaka/blob/master/pytorch.ipynb\" target=\"_parent\"><img src=\"https://colab.research.google.com/assets/colab-badge.svg\" alt=\"Open In Colab\"/></a>"
      ]
    },
    {
      "cell_type": "code",
      "metadata": {
        "id": "VfTP1Pc7hr-g",
        "colab_type": "code",
        "colab": {}
      },
      "source": [
        "from __future__ import print_function\n",
        "import torch"
      ],
      "execution_count": 0,
      "outputs": []
    },
    {
      "cell_type": "code",
      "metadata": {
        "id": "rYlXA6FVi-_H",
        "colab_type": "code",
        "colab": {}
      },
      "source": [
        "# 初期化されていない5x3行列を作成"
      ],
      "execution_count": 0,
      "outputs": []
    },
    {
      "cell_type": "code",
      "metadata": {
        "id": "9iAl88z6hxaS",
        "colab_type": "code",
        "outputId": "e467bfea-b7c3-4618-d2af-67046dda3788",
        "colab": {
          "base_uri": "https://localhost:8080/",
          "height": 102
        }
      },
      "source": [
        "x = torch.empty(5, 3)\n",
        "print(x)"
      ],
      "execution_count": 0,
      "outputs": [
        {
          "output_type": "stream",
          "text": [
            "tensor([[1.4624e-36, 0.0000e+00, 0.0000e+00],\n",
            "        [0.0000e+00, 0.0000e+00, 0.0000e+00],\n",
            "        [0.0000e+00, 0.0000e+00, 2.8026e-45],\n",
            "        [0.0000e+00, 1.1210e-44, 0.0000e+00],\n",
            "        [1.4013e-45, 0.0000e+00, 1.8367e-40]])\n"
          ],
          "name": "stdout"
        }
      ]
    },
    {
      "cell_type": "code",
      "metadata": {
        "id": "ddemNxq-jJKJ",
        "colab_type": "code",
        "colab": {}
      },
      "source": [
        "# ランダムに初期化された行列を作成"
      ],
      "execution_count": 0,
      "outputs": []
    },
    {
      "cell_type": "code",
      "metadata": {
        "id": "FmZCfz3Thtz2",
        "colab_type": "code",
        "outputId": "a1554ea1-10e5-43a4-c3f9-b6ec63137c09",
        "colab": {
          "base_uri": "https://localhost:8080/",
          "height": 102
        }
      },
      "source": [
        "x = torch.rand(5, 3)\n",
        "print(x)"
      ],
      "execution_count": 0,
      "outputs": [
        {
          "output_type": "stream",
          "text": [
            "tensor([[0.5034, 0.2672, 0.7482],\n",
            "        [0.2401, 0.5310, 0.8231],\n",
            "        [0.9507, 0.8541, 0.3501],\n",
            "        [0.3264, 0.4367, 0.6498],\n",
            "        [0.5931, 0.4884, 0.0056]])\n"
          ],
          "name": "stdout"
        }
      ]
    },
    {
      "cell_type": "code",
      "metadata": {
        "id": "bGH_2ZAfjMXj",
        "colab_type": "code",
        "colab": {}
      },
      "source": [
        "# ゼロで満たされたdtype longの行列を作成"
      ],
      "execution_count": 0,
      "outputs": []
    },
    {
      "cell_type": "code",
      "metadata": {
        "id": "PMk1uVTjiEFA",
        "colab_type": "code",
        "outputId": "2c17b163-0877-4a42-e9cb-31319e9c823f",
        "colab": {
          "base_uri": "https://localhost:8080/",
          "height": 102
        }
      },
      "source": [
        "x = torch.rand(5,3)\n",
        "print(x)"
      ],
      "execution_count": 0,
      "outputs": [
        {
          "output_type": "stream",
          "text": [
            "tensor([[0.4347, 0.4686, 0.0504],\n",
            "        [0.8591, 0.8385, 0.7416],\n",
            "        [0.5997, 0.9111, 0.7338],\n",
            "        [0.7620, 0.7617, 0.6567],\n",
            "        [0.3580, 0.7865, 0.0911]])\n"
          ],
          "name": "stdout"
        }
      ]
    },
    {
      "cell_type": "code",
      "metadata": {
        "id": "UBTQvJckjcE2",
        "colab_type": "code",
        "colab": {}
      },
      "source": [
        "# データから直接テンソルを作成"
      ],
      "execution_count": 0,
      "outputs": []
    },
    {
      "cell_type": "code",
      "metadata": {
        "id": "DqTLQPTTiULp",
        "colab_type": "code",
        "outputId": "58755e4a-9deb-4c9a-ee34-c317fdd085f1",
        "colab": {
          "base_uri": "https://localhost:8080/",
          "height": 102
        }
      },
      "source": [
        "x = torch.zeros(5,3,dtype=torch.long)\n",
        "print(x)"
      ],
      "execution_count": 0,
      "outputs": [
        {
          "output_type": "stream",
          "text": [
            "tensor([[0, 0, 0],\n",
            "        [0, 0, 0],\n",
            "        [0, 0, 0],\n",
            "        [0, 0, 0],\n",
            "        [0, 0, 0]])\n"
          ],
          "name": "stdout"
        }
      ]
    },
    {
      "cell_type": "code",
      "metadata": {
        "id": "yj2bO7E9izXQ",
        "colab_type": "code",
        "colab": {}
      },
      "source": [
        "# 既存のテンソルに基づいてテンソルを作成\n",
        "# これらのメソッドは、ユーザーが新しい値を提供しない限り、dtypeなどの入力テンソルのプロパティを再利用"
      ],
      "execution_count": 0,
      "outputs": []
    },
    {
      "cell_type": "code",
      "metadata": {
        "id": "FD3qEL6kimlB",
        "colab_type": "code",
        "outputId": "34a91fb8-c415-42ca-f04d-99fd246c66ee",
        "colab": {
          "base_uri": "https://localhost:8080/",
          "height": 34
        }
      },
      "source": [
        "x = torch.tensor([5.5,3])\n",
        "print(x)"
      ],
      "execution_count": 0,
      "outputs": [
        {
          "output_type": "stream",
          "text": [
            "tensor([5.5000, 3.0000])\n"
          ],
          "name": "stdout"
        }
      ]
    },
    {
      "cell_type": "code",
      "metadata": {
        "id": "D6p7DK8Qjo5D",
        "colab_type": "code",
        "outputId": "d0122af5-9097-4dbf-f1d5-77bd80a4586e",
        "colab": {
          "base_uri": "https://localhost:8080/",
          "height": 187
        }
      },
      "source": [
        "x = x.new_ones(5, 3, dtype=torch.double) \n",
        "print(x)\n",
        "\n",
        "x = torch.randn_like(x, dtype=torch.float) \n",
        "print(x)"
      ],
      "execution_count": 0,
      "outputs": [
        {
          "output_type": "stream",
          "text": [
            "tensor([[1., 1., 1.],\n",
            "        [1., 1., 1.],\n",
            "        [1., 1., 1.],\n",
            "        [1., 1., 1.],\n",
            "        [1., 1., 1.]], dtype=torch.float64)\n",
            "tensor([[-2.2236,  0.6814, -1.3830],\n",
            "        [-0.6347,  0.8413,  0.0624],\n",
            "        [ 1.1628, -0.3660,  1.6328],\n",
            "        [-0.9798, -0.8820, -1.2398],\n",
            "        [-0.4726,  0.0219, -0.1322]])\n"
          ],
          "name": "stdout"
        }
      ]
    },
    {
      "cell_type": "code",
      "metadata": {
        "id": "WLrjqxUwlD2e",
        "colab_type": "code",
        "colab": {}
      },
      "source": [
        "# サイズを取得"
      ],
      "execution_count": 0,
      "outputs": []
    },
    {
      "cell_type": "code",
      "metadata": {
        "id": "aneIG3r-j1Hj",
        "colab_type": "code",
        "outputId": "4bb9972b-84ef-4015-9437-3defc3acb2f9",
        "colab": {
          "base_uri": "https://localhost:8080/",
          "height": 34
        }
      },
      "source": [
        "print(x.size())"
      ],
      "execution_count": 0,
      "outputs": [
        {
          "output_type": "stream",
          "text": [
            "torch.Size([5, 3])\n"
          ],
          "name": "stdout"
        }
      ]
    },
    {
      "cell_type": "code",
      "metadata": {
        "id": "rZx02fAIlKhG",
        "colab_type": "code",
        "colab": {}
      },
      "source": [
        "# 加算演算"
      ],
      "execution_count": 0,
      "outputs": []
    },
    {
      "cell_type": "code",
      "metadata": {
        "id": "WT1olbOGkCHC",
        "colab_type": "code",
        "outputId": "c29ce9d9-ed1b-4042-b231-b17f0100db49",
        "colab": {
          "base_uri": "https://localhost:8080/",
          "height": 187
        }
      },
      "source": [
        "y = torch.rand(5,3)\n",
        "print(x + y)\n",
        "\n",
        "print(torch.add(x, y))"
      ],
      "execution_count": 0,
      "outputs": [
        {
          "output_type": "stream",
          "text": [
            "tensor([[-2.1567,  0.6913, -0.5979],\n",
            "        [-0.2263,  1.6730,  0.2510],\n",
            "        [ 1.7936,  0.2278,  2.3427],\n",
            "        [-0.0366, -0.7760, -1.1362],\n",
            "        [ 0.4453,  0.8247,  0.4906]])\n",
            "tensor([[-2.1567,  0.6913, -0.5979],\n",
            "        [-0.2263,  1.6730,  0.2510],\n",
            "        [ 1.7936,  0.2278,  2.3427],\n",
            "        [-0.0366, -0.7760, -1.1362],\n",
            "        [ 0.4453,  0.8247,  0.4906]])\n"
          ],
          "name": "stdout"
        }
      ]
    },
    {
      "cell_type": "code",
      "metadata": {
        "id": "JP_x2aenkn1Z",
        "colab_type": "code",
        "outputId": "f9088d95-3c30-44d0-9b92-1356fd43c476",
        "colab": {
          "base_uri": "https://localhost:8080/",
          "height": 102
        }
      },
      "source": [
        "result = torch.empty(5, 3)\n",
        "torch.add(x, y, out=result)\n",
        "print(result)"
      ],
      "execution_count": 0,
      "outputs": [
        {
          "output_type": "stream",
          "text": [
            "tensor([[-2.1567,  0.6913, -0.5979],\n",
            "        [-0.2263,  1.6730,  0.2510],\n",
            "        [ 1.7936,  0.2278,  2.3427],\n",
            "        [-0.0366, -0.7760, -1.1362],\n",
            "        [ 0.4453,  0.8247,  0.4906]])\n"
          ],
          "name": "stdout"
        }
      ]
    },
    {
      "cell_type": "code",
      "metadata": {
        "id": "9qLEnCH1lM8y",
        "colab_type": "code",
        "colab": {}
      },
      "source": [
        "# 追加：インプレース"
      ],
      "execution_count": 0,
      "outputs": []
    },
    {
      "cell_type": "code",
      "metadata": {
        "id": "KWahnSNWlYhK",
        "colab_type": "code",
        "outputId": "e7f41bbb-7833-45f0-bf2c-27c3b9de0653",
        "colab": {
          "base_uri": "https://localhost:8080/",
          "height": 102
        }
      },
      "source": [
        "y.add_(x)\n",
        "print(y)"
      ],
      "execution_count": 0,
      "outputs": [
        {
          "output_type": "stream",
          "text": [
            "tensor([[-2.1567,  0.6913, -0.5979],\n",
            "        [-0.2263,  1.6730,  0.2510],\n",
            "        [ 1.7936,  0.2278,  2.3427],\n",
            "        [-0.0366, -0.7760, -1.1362],\n",
            "        [ 0.4453,  0.8247,  0.4906]])\n"
          ],
          "name": "stdout"
        }
      ]
    },
    {
      "cell_type": "code",
      "metadata": {
        "id": "Gh8yz0-AmJZO",
        "colab_type": "code",
        "colab": {}
      },
      "source": [
        "# すべてのベルとホイッスルで標準のNumPyのようなインデックスを使用"
      ],
      "execution_count": 0,
      "outputs": []
    },
    {
      "cell_type": "code",
      "metadata": {
        "id": "YIP0xR9tlb6P",
        "colab_type": "code",
        "outputId": "9d17026c-bb1d-4972-9082-737433a808b6",
        "colab": {
          "base_uri": "https://localhost:8080/",
          "height": 34
        }
      },
      "source": [
        "print(x[:, 1])"
      ],
      "execution_count": 0,
      "outputs": [
        {
          "output_type": "stream",
          "text": [
            "tensor([ 0.6814,  0.8413, -0.3660, -0.8820,  0.0219])\n"
          ],
          "name": "stdout"
        }
      ]
    },
    {
      "cell_type": "code",
      "metadata": {
        "id": "k5Xb4w3ImNZr",
        "colab_type": "code",
        "colab": {}
      },
      "source": [
        "# サイズ変更torch.view：テンソルのサイズを変更/変更したい場合"
      ],
      "execution_count": 0,
      "outputs": []
    },
    {
      "cell_type": "code",
      "metadata": {
        "id": "NmLPCBqSmelA",
        "colab_type": "code",
        "outputId": "bfac4bba-7f9b-4c1a-d401-fce48b587511",
        "colab": {
          "base_uri": "https://localhost:8080/",
          "height": 34
        }
      },
      "source": [
        "x = torch.randn(4, 4)\n",
        "y = x.view(16)\n",
        "z = x.view(-1, 8)\n",
        "print(x.size(), y.size(), z.size())"
      ],
      "execution_count": 0,
      "outputs": [
        {
          "output_type": "stream",
          "text": [
            "torch.Size([4, 4]) torch.Size([16]) torch.Size([2, 8])\n"
          ],
          "name": "stdout"
        }
      ]
    },
    {
      "cell_type": "code",
      "metadata": {
        "id": "i7wQX_xxmjig",
        "colab_type": "code",
        "colab": {}
      },
      "source": [
        "# 1要素のテンソルがある場合.item()、Pythonの数値として値を取得するために使用"
      ],
      "execution_count": 0,
      "outputs": []
    },
    {
      "cell_type": "code",
      "metadata": {
        "id": "2IC0ycxJmpLG",
        "colab_type": "code",
        "outputId": "1b162879-9da9-4abf-ff98-beaadecd9e1a",
        "colab": {
          "base_uri": "https://localhost:8080/",
          "height": 51
        }
      },
      "source": [
        "x = torch.randn(1)\n",
        "print(x)\n",
        "print(x.item())"
      ],
      "execution_count": 0,
      "outputs": [
        {
          "output_type": "stream",
          "text": [
            "tensor([0.8698])\n",
            "0.8698033094406128\n"
          ],
          "name": "stdout"
        }
      ]
    },
    {
      "cell_type": "code",
      "metadata": {
        "id": "URGqMDUxmrT7",
        "colab_type": "code",
        "colab": {}
      },
      "source": [
        "# トーチテンソルをNumPy配列に変換する"
      ],
      "execution_count": 0,
      "outputs": []
    },
    {
      "cell_type": "code",
      "metadata": {
        "id": "5KvVZVMgm5a1",
        "colab_type": "code",
        "outputId": "c9f75be0-0e74-4745-ab77-58103ac235cf",
        "colab": {
          "base_uri": "https://localhost:8080/",
          "height": 34
        }
      },
      "source": [
        "a = torch.ones(5)\n",
        "print(a)"
      ],
      "execution_count": 0,
      "outputs": [
        {
          "output_type": "stream",
          "text": [
            "tensor([1., 1., 1., 1., 1.])\n"
          ],
          "name": "stdout"
        }
      ]
    },
    {
      "cell_type": "code",
      "metadata": {
        "id": "z_js6nGjnAHh",
        "colab_type": "code",
        "outputId": "d594ff8d-fd50-48e5-c422-6119b1a3c09d",
        "colab": {
          "base_uri": "https://localhost:8080/",
          "height": 34
        }
      },
      "source": [
        "b = a.numpy()\n",
        "print(b)"
      ],
      "execution_count": 0,
      "outputs": [
        {
          "output_type": "stream",
          "text": [
            "[1. 1. 1. 1. 1.]\n"
          ],
          "name": "stdout"
        }
      ]
    },
    {
      "cell_type": "code",
      "metadata": {
        "id": "hinDqZ6rnA52",
        "colab_type": "code",
        "outputId": "ef5e12d5-25af-404f-e482-99d29334bea1",
        "colab": {
          "base_uri": "https://localhost:8080/",
          "height": 51
        }
      },
      "source": [
        "a.add_(1)\n",
        "print(a)\n",
        "print(b)"
      ],
      "execution_count": 0,
      "outputs": [
        {
          "output_type": "stream",
          "text": [
            "tensor([2., 2., 2., 2., 2.])\n",
            "[2. 2. 2. 2. 2.]\n"
          ],
          "name": "stdout"
        }
      ]
    },
    {
      "cell_type": "code",
      "metadata": {
        "id": "_NsJuyzinRSX",
        "colab_type": "code",
        "colab": {}
      },
      "source": [
        "# NumPy配列をトーチテンソルに変換する"
      ],
      "execution_count": 0,
      "outputs": []
    },
    {
      "cell_type": "code",
      "metadata": {
        "id": "m8ruPZVSoHrb",
        "colab_type": "code",
        "colab": {}
      },
      "source": [
        "import numpy as np"
      ],
      "execution_count": 0,
      "outputs": []
    },
    {
      "cell_type": "code",
      "metadata": {
        "id": "AMOjgU_boMdx",
        "colab_type": "code",
        "outputId": "cece56e6-67a5-45ac-96c3-07d5fc87665e",
        "colab": {
          "base_uri": "https://localhost:8080/",
          "height": 51
        }
      },
      "source": [
        "a = np.ones(5)\n",
        "b = torch.from_numpy(a)\n",
        "np.add(a, 1, out=a)\n",
        "print(a)\n",
        "print(b)"
      ],
      "execution_count": 0,
      "outputs": [
        {
          "output_type": "stream",
          "text": [
            "[2. 2. 2. 2. 2.]\n",
            "tensor([2., 2., 2., 2., 2.], dtype=torch.float64)\n"
          ],
          "name": "stdout"
        }
      ]
    },
    {
      "cell_type": "code",
      "metadata": {
        "id": "03ttc-LjoOjQ",
        "colab_type": "code",
        "colab": {}
      },
      "source": [
        "# CUDAテンソル"
      ],
      "execution_count": 0,
      "outputs": []
    },
    {
      "cell_type": "code",
      "metadata": {
        "id": "jzzZ3jhRpHGm",
        "colab_type": "code",
        "colab": {}
      },
      "source": [
        "# テンソルは、この.to方法を使用して任意のデバイスに移動"
      ],
      "execution_count": 0,
      "outputs": []
    },
    {
      "cell_type": "code",
      "metadata": {
        "id": "lDfL4N4tqfpL",
        "colab_type": "code",
        "colab": {}
      },
      "source": [
        "if torch.cuda.is_available():\n",
        "   device = torch.device('cuda')\n",
        "   y  = torch.ones_like(x , device=device)\n",
        "   x = x.to(device)\n",
        "   z = x + y\n",
        "   print(z)\n",
        "   print(z.to('cpu',torch.double))"
      ],
      "execution_count": 0,
      "outputs": []
    }
  ]
}